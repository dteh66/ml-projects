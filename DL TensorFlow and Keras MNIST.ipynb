{
 "cells": [
  {
   "cell_type": "code",
   "execution_count": 13,
   "id": "3cb9550d",
   "metadata": {},
   "outputs": [],
   "source": [
    "import tensorflow as tf\n",
    "\n",
    "mnist = tf.keras.datasets.mnist #handwritten digits 0-9, 28x28 pixels\n",
    "\n",
    "(x_train, y_train), (x_test, y_test) = mnist.load_data() #unpacks mnist data"
   ]
  },
  {
   "cell_type": "code",
   "execution_count": 14,
   "id": "4251ff22",
   "metadata": {},
   "outputs": [],
   "source": [
    "#scale values from [0-255] -> [0-1], makes it \"easier to learn\"\n",
    "x_train = tf.keras.utils.normalize(x_train, axis=1)\n",
    "x_test = tf.keras.utils.normalize(x_test, axis=1) \n",
    "\n",
    "model = tf.keras.models.Sequential()  #https://keras.io/guides/sequential_model/\n",
    "model.add(tf.keras.layers.Flatten()) #input layer\n",
    "model.add(tf.keras.layers.Dense(128, activation=tf.nn.relu)) #layer 1\n",
    "model.add(tf.keras.layers.Dense(128, activation=tf.nn.relu)) #layer 2\n",
    "model.add(tf.keras.layers.Dense(10, activation=tf.nn.softmax)) #output layer"
   ]
  },
  {
   "cell_type": "code",
   "execution_count": 15,
   "id": "66135fa2",
   "metadata": {},
   "outputs": [],
   "source": [
    "#calculating loss\n",
    "\n",
    "#adam -> one version\n",
    "#alt: stochastic gradient descent\n",
    "#sparse vs binary (cat vs dog differentiation)\n",
    "model.compile(optimizer='adam', loss='sparse_categorical_crossentropy', metrics=['accuracy'])"
   ]
  },
  {
   "cell_type": "code",
   "execution_count": 16,
   "id": "39ea2ab0",
   "metadata": {},
   "outputs": [
    {
     "name": "stdout",
     "output_type": "stream",
     "text": [
      "Epoch 1/3\n",
      "1875/1875 [==============================] - 4s 2ms/step - loss: 0.2615 - accuracy: 0.9226\n",
      "Epoch 2/3\n",
      "1875/1875 [==============================] - 3s 2ms/step - loss: 0.1064 - accuracy: 0.9673\n",
      "Epoch 3/3\n",
      "1875/1875 [==============================] - 3s 2ms/step - loss: 0.0729 - accuracy: 0.9775\n"
     ]
    },
    {
     "data": {
      "text/plain": [
       "<keras.callbacks.History at 0x7fac96beefd0>"
      ]
     },
     "execution_count": 16,
     "metadata": {},
     "output_type": "execute_result"
    }
   ],
   "source": [
    "#train\n",
    "model.fit(x_train, y_train, epochs=3) "
   ]
  },
  {
   "cell_type": "code",
   "execution_count": 17,
   "id": "7f314501",
   "metadata": {},
   "outputs": [
    {
     "name": "stdout",
     "output_type": "stream",
     "text": [
      "313/313 [==============================] - 0s 955us/step - loss: 0.0921 - accuracy: 0.9700\n",
      "0.09210679680109024 0.9700000286102295\n"
     ]
    }
   ],
   "source": [
    "#checking generalization of model on test data (rather than train data)\n",
    "val_loss, val_acc = model.evaluate(x_test, y_test)\n",
    "print(val_loss, val_acc)"
   ]
  },
  {
   "cell_type": "code",
   "execution_count": 10,
   "id": "4f2562e5",
   "metadata": {},
   "outputs": [
    {
     "data": {
      "image/png": "[encoded data removed]",
      "text/plain": [
       "<Figure size 432x288 with 1 Axes>"
      ]
     },
     "metadata": {
      "needs_background": "light"
     },
     "output_type": "display_data"
    }
   ],
   "source": [
    "import matplotlib.pyplot as plt\n",
    "\n",
    "#print first image\n",
    "plt.imshow(x_train[0], cmap = plt.cm.binary) #2nd param to make b+w\n",
    "plt.show()\n",
    "#print(x_train[0]) "
   ]
  },
  {
   "cell_type": "code",
   "execution_count": 18,
   "id": "ce780225",
   "metadata": {},
   "outputs": [
    {
     "name": "stderr",
     "output_type": "stream",
     "text": [
      "WARNING:absl:Found untraced functions such as _update_step_xla while saving (showing 1 of 1). These functions will not be directly callable after loading.\n"
     ]
    },
    {
     "name": "stdout",
     "output_type": "stream",
     "text": [
      "INFO:tensorflow:Assets written to: myModel.model/assets\n"
     ]
    },
    {
     "name": "stderr",
     "output_type": "stream",
     "text": [
      "INFO:tensorflow:Assets written to: myModel.model/assets\n"
     ]
    }
   ],
   "source": [
    "model.save('myModel.model')"
   ]
  },
  {
   "cell_type": "code",
   "execution_count": 19,
   "id": "7a5da628",
   "metadata": {},
   "outputs": [],
   "source": [
    "new_model = tf.keras.models.load_model('myModel.model')"
   ]
  },
  {
   "cell_type": "code",
   "execution_count": 20,
   "id": "e703fbba",
   "metadata": {},
   "outputs": [
    {
     "name": "stdout",
     "output_type": "stream",
     "text": [
      "313/313 [==============================] - 0s 914us/step\n"
     ]
    }
   ],
   "source": [
    "predictions = new_model.predict([x_test])"
   ]
  },
  {
   "cell_type": "code",
   "execution_count": 21,
   "id": "fee5bdc7",
   "metadata": {},
   "outputs": [
    {
     "name": "stdout",
     "output_type": "stream",
     "text": [
      "[[2.05706258e-10 1.44231379e-07 5.11161079e-06 ... 9.99943972e-01\n",
      "  7.29143590e-09 7.96626580e-07]\n",
      " [1.43556406e-07 1.81347481e-04 9.99731600e-01 ... 1.06343187e-07\n",
      "  9.04978037e-07 8.28216176e-11]\n",
      " [1.44387897e-07 9.99936581e-01 4.34832964e-06 ... 1.95992052e-05\n",
      "  1.24753233e-05 1.09369225e-07]\n",
      " ...\n",
      " [7.64989316e-09 8.17222912e-08 6.22240677e-08 ... 8.23294067e-06\n",
      "  5.40072597e-06 3.41049090e-05]\n",
      " [4.19056596e-06 5.45415605e-06 1.93181631e-06 ... 8.45127204e-07\n",
      "  2.75897793e-04 2.62215025e-07]\n",
      " [1.21481378e-07 3.09737764e-08 1.40962051e-08 ... 2.80735962e-10\n",
      "  2.19480455e-07 2.10952839e-10]]\n"
     ]
    }
   ],
   "source": [
    "print(predictions)"
   ]
  },
  {
   "cell_type": "code",
   "execution_count": 22,
   "id": "414d891b",
   "metadata": {},
   "outputs": [],
   "source": [
    "import numpy as np\n",
    "\n",
    "print(np.argmax(predictions[0])) #predicts that they 0th test image is a \"insert\""
   ]
  },
  {
   "cell_type": "code",
   "execution_count": 23,
   "id": "a2f3943b",
   "metadata": {},
   "outputs": [
    {
     "data": {
      "image/png": "[encoded data removed]",
      "text/plain": [
       "<Figure size 432x288 with 1 Axes>"
      ]
     },
     "metadata": {
      "needs_background": "light"
     },
     "output_type": "display_data"
    }
   ],
   "source": [
    "plt.imshow(x_test[0])\n",
    "plt.show()"
   ]
  },
  {
   "cell_type": "code",
   "execution_count": null,
   "id": "857263ab",
   "metadata": {},
   "outputs": [],
   "source": []
  }
 ],
 "metadata": {
  "kernelspec": {
   "display_name": "base",
   "language": "python",
   "name": "python3"
  },
  "language_info": {
   "codemirror_mode": {
    "name": "ipython",
    "version": 3
   },
   "file_extension": ".py",
   "mimetype": "text/x-python",
   "name": "python",
   "nbconvert_exporter": "python",
   "pygments_lexer": "ipython3",
   "version": "3.8.8 (default, Apr 13 2021, 12:59:45) \n[Clang 10.0.0 ]"
  },
  "vscode": {
   "interpreter": {
    "hash": "521bf23a49300457a383cc0ce4a9a5b8cdf2cad9d8aaec6ddd3bd1c99845bf26"
   }
  }
 },
 "nbformat": 4,
 "nbformat_minor": 5
}
