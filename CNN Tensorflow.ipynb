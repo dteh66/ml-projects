{
 "cells": [
  {
   "cell_type": "code",
   "execution_count": 7,
   "id": "32f04bc1",
   "metadata": {},
   "outputs": [
    {
     "name": "stdout",
     "output_type": "stream",
     "text": [
      "Epoch 1/3\n",
      "702/702 [==============================] - 54s 76ms/step - loss: 0.6444 - accuracy: 0.6191 - val_loss: 0.5953 - val_accuracy: 0.6862\n",
      "Epoch 2/3\n",
      "702/702 [==============================] - 57s 82ms/step - loss: 0.5539 - accuracy: 0.7218 - val_loss: 0.5707 - val_accuracy: 0.7066\n",
      "Epoch 3/3\n",
      "702/702 [==============================] - 52s 74ms/step - loss: 0.5037 - accuracy: 0.7597 - val_loss: 0.4985 - val_accuracy: 0.7663\n"
     ]
    },
    {
     "data": {
      "text/plain": [
       "<keras.callbacks.History at 0x7fdc57e72a30>"
      ]
     },
     "execution_count": 7,
     "metadata": {},
     "output_type": "execute_result"
    }
   ],
   "source": [
    "import tensorflow as tf\n",
    "from tensorflow.keras.models import Sequential\n",
    "from tensorflow.keras.layers import Dense, Dropout, Activation, Flatten, Conv2D, MaxPooling2D\n",
    "#Dense RNN or CNN ends fully connected layer\n",
    "#import model\n",
    "import pickle\n",
    "x = pickle.load(open(\"x.pickle\", \"rb\"))\n",
    "y = pickle.load(open(\"y.pickle\", \"rb\"))\n",
    "\n",
    "#normalize data -> scale\n",
    "x = x/255.0\n",
    "\n",
    "model = Sequential()\n",
    "#CNN layer 1, convert 2d image into a new 2D dot product image\n",
    "#3x3 size window\n",
    "model.add(Conv2D(64, (3,3), input_shape = x.shape[1:]))\n",
    "model.add(Activation(\"relu\"))\n",
    "#then, a pooling window, where takes max of 2x2 sliding square\n",
    "model.add(MaxPooling2D(pool_size=(2,2)))\n",
    "\n",
    "#CNN layer 2\n",
    "model.add(Conv2D(64, (3,3), input_shape = x.shape[1:]))\n",
    "model.add(Activation(\"relu\"))\n",
    "model.add(MaxPooling2D(pool_size=(2,2)))\n",
    "\n",
    "#third layer, to convert image into 1d array\n",
    "model.add(Flatten())\n",
    "model.add(Dense(64))\n",
    "\n",
    "model.add(Dense(1))\n",
    "model.add(Activation('sigmoid'))\n",
    "\n",
    "model.compile(loss=\"binary_crossentropy\", \n",
    "             optimizer=\"adam\",\n",
    "             metrics=['accuracy'])\n",
    "\n",
    "model.fit(x, y, batch_size=32, epochs=3, validation_split=0.1)"
   ]
  },
  {
   "cell_type": "code",
   "execution_count": null,
   "id": "60c6a15a",
   "metadata": {},
   "outputs": [],
   "source": []
  },
  {
   "cell_type": "code",
   "execution_count": null,
   "id": "f275a51a",
   "metadata": {},
   "outputs": [],
   "source": [
    "\n",
    "\n"
   ]
  }
 ],
 "metadata": {
  "kernelspec": {
   "display_name": "Python 3",
   "language": "python",
   "name": "python3"
  },
  "language_info": {
   "codemirror_mode": {
    "name": "ipython",
    "version": 3
   },
   "file_extension": ".py",
   "mimetype": "text/x-python",
   "name": "python",
   "nbconvert_exporter": "python",
   "pygments_lexer": "ipython3",
   "version": "3.8.8"
  }
 },
 "nbformat": 4,
 "nbformat_minor": 5
}
